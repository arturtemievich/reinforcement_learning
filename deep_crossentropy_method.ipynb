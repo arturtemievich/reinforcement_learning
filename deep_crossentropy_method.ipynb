{
 "cells": [
  {
   "cell_type": "markdown",
   "metadata": {},
   "source": [
    "# Deep Crossentropy Method"
   ]
  },
  {
   "cell_type": "code",
   "execution_count": null,
   "metadata": {},
   "outputs": [],
   "source": [
    "import gym\n",
    "import numpy as np\n",
    "\n",
    "import torch\n",
    "import torch.nn as nn\n",
    "import torch.optim as optim\n",
    "import torch.nn.functional as F"
   ]
  },
  {
   "cell_type": "code",
   "execution_count": null,
   "metadata": {},
   "outputs": [],
   "source": [
    "n_sessions = 100      # sample this many sessions\n",
    "percentile = 50       # take this percent of session with highest rewards\n",
    "learning_rate = 0.01  # for optimizer\n",
    "\n",
    "BATCH_SIZE = 100\n",
    "STOP_VALUE_SCORE = 195"
   ]
  },
  {
   "cell_type": "code",
   "execution_count": null,
   "metadata": {},
   "outputs": [],
   "source": [
    "class DeepCEM(nn.Module):\n",
    "\n",
    "    def __init__(self, n_states, n_actions):\n",
    "        super().__init__()\n",
    "        self.fc1 = nn.Linear(n_states, 200)\n",
    "        self.fc2 = nn.Linear(200, n_actions)\n",
    "        \n",
    "    def forward(self, x):\n",
    "        x = F.relu(self.fc1(x))\n",
    "        return self.fc2(x)\n",
    "\n",
    "\n",
    "def generate_batch(env, t_max=5_000):\n",
    "    \n",
    "    activation = nn.Softmax(dim=1)\n",
    "    batch_actions, batch_states, batch_rewards = [], [], []\n",
    "    \n",
    "    for b in range(BATCH_SIZE):\n",
    "\n",
    "        s = env.reset()\n",
    "        total_reward = 0.\n",
    "        states, actions = [], []\n",
    "        \n",
    "        for t in range(t_max):\n",
    "            \n",
    "            if b == 0:\n",
    "                env.render()\n",
    "            s_v = torch.FloatTensor([s])\n",
    "            act_probs_v = activation(nn_cem(s_v))\n",
    "            act_probs = act_probs_v.data.numpy()[0]\n",
    "            a = np.random.choice(len(act_probs), p=act_probs)\n",
    "\n",
    "            new_s, r, done, info = env.step(a)\n",
    "\n",
    "            states.append(s)\n",
    "            actions.append(a)\n",
    "            total_reward += r\n",
    "\n",
    "            s = new_s\n",
    "\n",
    "            if done:\n",
    "                batch_actions.append(actions)\n",
    "                batch_states.append(states)\n",
    "                batch_rewards.append(total_reward)\n",
    "                break\n",
    "                \n",
    "    return batch_states, batch_actions, batch_rewards\n",
    "\n",
    "\n",
    "def filter_batch(states, actions, rewards, percentile=70):\n",
    "    \n",
    "    reward_threshold = np.percentile(rewards, percentile)\n",
    "    \n",
    "    elite_states, elite_actions = [], []\n",
    "    \n",
    "    for i in range(len(rewards)):\n",
    "        if rewards[i] > reward_threshold:\n",
    "            for j in range(len(states[i])):\n",
    "                elite_states.append(states[i][j])\n",
    "                elite_actions.append(actions[i][j])\n",
    "    \n",
    "    return elite_states, elite_actions"
   ]
  },
  {
   "cell_type": "code",
   "execution_count": null,
   "metadata": {},
   "outputs": [],
   "source": [
    "env = gym.make('CartPole-v1')\n",
    "\n",
    "n_states = env.observation_space.shape[0]\n",
    "n_actions = env.action_space.n\n",
    "print(f\"n_states={n_states}, n_actions={n_actions}\")"
   ]
  },
  {
   "cell_type": "code",
   "execution_count": null,
   "metadata": {},
   "outputs": [],
   "source": [
    "nn_cem = DeepCEM(n_states, n_actions)\n",
    "criterion = nn.CrossEntropyLoss()\n",
    "optimizer = optim.Adam(params=nn_cem.parameters(), lr=learning_rate)"
   ]
  },
  {
   "cell_type": "code",
   "execution_count": null,
   "metadata": {},
   "outputs": [],
   "source": [
    "for i in range(n_sessions):\n",
    "    \n",
    "    batch_states, batch_actions, batch_rewards = generate_batch(env)\n",
    "    elite_states, elite_actions = filter_batch(batch_states, batch_actions, batch_rewards, percentile)\n",
    "    \n",
    "    optimizer.zero_grad()\n",
    "    tensor_states = torch.FloatTensor(elite_states)\n",
    "    tensor_actions = torch.LongTensor(elite_actions)\n",
    "    \n",
    "    predicted_actions = nn_cem(tensor_states)\n",
    "        \n",
    "    loss_value = criterion(predicted_actions, tensor_actions)\n",
    "    loss_value.backward()\n",
    "    optimizer.step()\n",
    "\n",
    "    mean_reward = np.mean(batch_rewards)\n",
    "    threshold = np.percentile(batch_rewards, percentile)\n",
    "        \n",
    "    print(f\"{i}: loss={loss_value.item():.3f}, reward_mean={mean_reward:.1f}, reward_threshold={threshold:.1f}\")\n",
    "    \n",
    "    if mean_reward > STOP_VALUE_SCORE:\n",
    "        print('Congratulations, you\\'ve solved this challenge!')\n",
    "        break"
   ]
  },
  {
   "cell_type": "code",
   "execution_count": null,
   "metadata": {},
   "outputs": [],
   "source": []
  }
 ],
 "metadata": {
  "kernelspec": {
   "display_name": "Python 3",
   "language": "python",
   "name": "python3"
  },
  "language_info": {
   "codemirror_mode": {
    "name": "ipython",
    "version": 3
   },
   "file_extension": ".py",
   "mimetype": "text/x-python",
   "name": "python",
   "nbconvert_exporter": "python",
   "pygments_lexer": "ipython3",
   "version": "3.6.4"
  }
 },
 "nbformat": 4,
 "nbformat_minor": 4
}
